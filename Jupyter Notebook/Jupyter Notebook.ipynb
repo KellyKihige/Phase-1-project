{
 "cells": [
  {
   "cell_type": "markdown",
   "id": "bcd74c5d-e4c7-4e30-905d-f1a9cd77a151",
   "metadata": {},
   "source": [
    "**BUSINESS PROPOSAL: AVIATON RISK ANALYSIS**\n",
    "\n",
    "**Business Understanding**\n",
    "\n",
    "    Our comapny is considering investing in aircraft for both commercial and private use. \n",
    "    Given the inherent riskas assocaited with aviation example, accidents, equipment failure and external factors, a comprehensive risk assessment is necessary.\n",
    "    This proposal outlines data driven approach to evaluate aviation safety based on historical accident data.\n",
    "    This will help us identify aircraft models with the lowest risk profiles and  factors contributing to aviation accidents.\n",
    "    \n",
    "**Business Problem**\n",
    "\n",
    "    Investing in aircraft presents significant finacial and operational risks.\n",
    "    Aviation accidents can lead to high costs, reputational damage and legal challenges.\n",
    "    currently our company needs to understand:\n",
    "             1. Which aircraft models have the lowest accident rates.\n",
    "             2. The most common risk facotrs leading to accidents, eg weather, human error, mechanical failure.\n",
    "             3. How data driven analysis can reduce the risk of investment.\n",
    "    By using historical accident data, this project aims to provide actionable insights that guide decision making and risk mitigation for aircraft investment.\n",
    "\n",
    "** Data Understanding**\n",
    "\n",
    "**Dataset Overview**\n",
    "\n",
    "   The data source for this project is from the National Transport Safety Board(NTSB) from 1962-2023.\n",
    "   This data includes details about the aircraft involved, accident location, severity and potential causes.\n",
    "\n",
    "**Data Exploration**\n",
    "\n",
    "  This will be done in stages:\n",
    "           1. we will be checking for missing data and clean the dataset\n",
    "           2. Identify trends in the dataset\n",
    "           3. Eplore different relationships within the datase\n",
    "\n",
    "**Data Analysis**\n",
    "\n",
    "Key things to be addressed;\n",
    "           1. Which aircraft models have thelowst amd highest accident rates, including fatal and serious injuries.\n",
    "           2. What role do weather conditions play in causing aviaiton accidents.\n",
    "           3. How do accidents vary across different phases of flight?\n",
    "           4. What can historical data tell us about future aviation safety?\n",
    "           \n",
    "   \n",
    "                                                                                                                           \n",
    "                                                                                                                           \n",
    "                                                                                                                           \n",
    "    "
   ]
  },
  {
   "cell_type": "code",
   "execution_count": null,
   "id": "245e6191-2413-4349-808e-12013815613d",
   "metadata": {},
   "outputs": [],
   "source": []
  },
  {
   "cell_type": "code",
   "execution_count": null,
   "id": "25780653-24c8-48ba-94fc-7ca85d8a8b3e",
   "metadata": {},
   "outputs": [],
   "source": []
  },
  {
   "cell_type": "code",
   "execution_count": null,
   "id": "a8013cd1-78b3-4717-8f89-5e8d69eb1f5f",
   "metadata": {},
   "outputs": [],
   "source": []
  }
 ],
 "metadata": {
  "kernelspec": {
   "display_name": "Python [conda env:base] *",
   "language": "python",
   "name": "conda-base-py"
  },
  "language_info": {
   "codemirror_mode": {
    "name": "ipython",
    "version": 3
   },
   "file_extension": ".py",
   "mimetype": "text/x-python",
   "name": "python",
   "nbconvert_exporter": "python",
   "pygments_lexer": "ipython3",
   "version": "3.12.7"
  }
 },
 "nbformat": 4,
 "nbformat_minor": 5
}
